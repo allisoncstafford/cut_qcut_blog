{
 "cells": [
  {
   "cell_type": "markdown",
   "metadata": {},
   "source": [
    "# This Jupyter Notebook contains code that accompanies Allison Honold's Medium Blog Post\n",
    "## Binning Records on a Continuous Variable with Pandas Cut and QCut: When, why, and how to transform a numeric feature into a categorical feature"
   ]
  },
  {
   "cell_type": "code",
   "execution_count": 2,
   "metadata": {},
   "outputs": [],
   "source": [
    "# import necessary packages\n",
    "import pandas as pd\n",
    "from sodapy import Socrata\n",
    "from matplotlib import pyplot as plt\n",
    "import numpy as np\n",
    "from scipy import stats\n",
    "import random"
   ]
  },
  {
   "cell_type": "code",
   "execution_count": 3,
   "metadata": {},
   "outputs": [
    {
     "name": "stderr",
     "output_type": "stream",
     "text": [
      "WARNING:root:Requests made without an app_token will be subject to strict throttling limits.\n"
     ]
    }
   ],
   "source": [
    "# import data\n",
    "\n",
    "# Unauthenticated client only works with public data sets. Note 'None'\n",
    "# in place of application token, and no username or password:\n",
    "client = Socrata(\"data.seattle.gov\", None)\n",
    "results = client.get(\"k9m8-nhz3\", limit=1000)\n",
    "\n",
    "# Convert to pandas DataFrame\n",
    "df = pd.DataFrame.from_records(results)"
   ]
  },
  {
   "cell_type": "code",
   "execution_count": 4,
   "metadata": {},
   "outputs": [
    {
     "data": {
      "text/html": [
       "<div>\n",
       "<style scoped>\n",
       "    .dataframe tbody tr th:only-of-type {\n",
       "        vertical-align: middle;\n",
       "    }\n",
       "\n",
       "    .dataframe tbody tr th {\n",
       "        vertical-align: top;\n",
       "    }\n",
       "\n",
       "    .dataframe thead th {\n",
       "        text-align: right;\n",
       "    }\n",
       "</style>\n",
       "<table border=\"1\" class=\"dataframe\">\n",
       "  <thead>\n",
       "    <tr style=\"text-align: right;\">\n",
       "      <th></th>\n",
       "      <th>job_classification</th>\n",
       "      <th>female_avg_hrly_rate</th>\n",
       "      <th>no_female_empl</th>\n",
       "      <th>male_avg_hrly_rate</th>\n",
       "      <th>no_male_empl</th>\n",
       "      <th>total_avg_hrly_rate</th>\n",
       "      <th>total_no_empl</th>\n",
       "      <th>female_to_male_rate</th>\n",
       "      <th>female_to_male_count</th>\n",
       "      <th>notes</th>\n",
       "    </tr>\n",
       "  </thead>\n",
       "  <tbody>\n",
       "    <tr>\n",
       "      <th>0</th>\n",
       "      <td>Accountant</td>\n",
       "      <td>30.58</td>\n",
       "      <td>23</td>\n",
       "      <td>30.28</td>\n",
       "      <td>7</td>\n",
       "      <td>30.51</td>\n",
       "      <td>30</td>\n",
       "      <td>101</td>\n",
       "      <td>329</td>\n",
       "      <td>NaN</td>\n",
       "    </tr>\n",
       "    <tr>\n",
       "      <th>1</th>\n",
       "      <td>Accountant,Prin</td>\n",
       "      <td>38.75</td>\n",
       "      <td>23</td>\n",
       "      <td>37.64</td>\n",
       "      <td>7</td>\n",
       "      <td>38.49</td>\n",
       "      <td>30</td>\n",
       "      <td>103</td>\n",
       "      <td>329</td>\n",
       "      <td>NaN</td>\n",
       "    </tr>\n",
       "    <tr>\n",
       "      <th>2</th>\n",
       "      <td>Accountant,Sr</td>\n",
       "      <td>34.479999999999997</td>\n",
       "      <td>23</td>\n",
       "      <td>33.89</td>\n",
       "      <td>6</td>\n",
       "      <td>34.36</td>\n",
       "      <td>29</td>\n",
       "      <td>102</td>\n",
       "      <td>383</td>\n",
       "      <td>NaN</td>\n",
       "    </tr>\n",
       "    <tr>\n",
       "      <th>3</th>\n",
       "      <td>Act Exec</td>\n",
       "      <td>43.1</td>\n",
       "      <td>4</td>\n",
       "      <td>42.02</td>\n",
       "      <td>7</td>\n",
       "      <td>42.42</td>\n",
       "      <td>11</td>\n",
       "      <td>103</td>\n",
       "      <td>57</td>\n",
       "      <td>NaN</td>\n",
       "    </tr>\n",
       "    <tr>\n",
       "      <th>4</th>\n",
       "      <td>Actg Tech I</td>\n",
       "      <td>22.56</td>\n",
       "      <td>1</td>\n",
       "      <td>NaN</td>\n",
       "      <td>NaN</td>\n",
       "      <td>22.56</td>\n",
       "      <td>1</td>\n",
       "      <td>NaN</td>\n",
       "      <td>NaN</td>\n",
       "      <td>no men in title</td>\n",
       "    </tr>\n",
       "  </tbody>\n",
       "</table>\n",
       "</div>"
      ],
      "text/plain": [
       "  job_classification female_avg_hrly_rate no_female_empl male_avg_hrly_rate  \\\n",
       "0         Accountant                30.58             23              30.28   \n",
       "1    Accountant,Prin                38.75             23              37.64   \n",
       "2      Accountant,Sr   34.479999999999997             23              33.89   \n",
       "3           Act Exec                 43.1              4              42.02   \n",
       "4        Actg Tech I                22.56              1                NaN   \n",
       "\n",
       "  no_male_empl total_avg_hrly_rate total_no_empl female_to_male_rate  \\\n",
       "0            7               30.51            30                 101   \n",
       "1            7               38.49            30                 103   \n",
       "2            6               34.36            29                 102   \n",
       "3            7               42.42            11                 103   \n",
       "4          NaN               22.56             1                 NaN   \n",
       "\n",
       "  female_to_male_count            notes  \n",
       "0                  329              NaN  \n",
       "1                  329              NaN  \n",
       "2                  383              NaN  \n",
       "3                   57              NaN  \n",
       "4                  NaN  no men in title  "
      ]
     },
     "execution_count": 4,
     "metadata": {},
     "output_type": "execute_result"
    }
   ],
   "source": [
    "# this data set is City of Seattle Wages: Comparison by Gender –Wage Progression Job Titles\n",
    "# https://data.seattle.gov/City-Business/City-of-Seattle-Wages-Comparison-by-Gender-Wage-Pr/k9m8-nhz3\n",
    "\n",
    "df.head()"
   ]
  },
  {
   "cell_type": "code",
   "execution_count": 5,
   "metadata": {},
   "outputs": [],
   "source": [
    "# fill NaN with 0\n",
    "df = df.fillna(0)\n",
    "\n",
    "# cast numeric strings as floats\n",
    "cols = df.columns.drop(['job_classification', 'notes'])\n",
    "df[cols] = df[cols].astype(float)"
   ]
  },
  {
   "cell_type": "code",
   "execution_count": 6,
   "metadata": {},
   "outputs": [
    {
     "name": "stdout",
     "output_type": "stream",
     "text": [
      "<class 'pandas.core.frame.DataFrame'>\n",
      "RangeIndex: 759 entries, 0 to 758\n",
      "Data columns (total 10 columns):\n",
      " #   Column                Non-Null Count  Dtype  \n",
      "---  ------                --------------  -----  \n",
      " 0   job_classification    759 non-null    object \n",
      " 1   female_avg_hrly_rate  759 non-null    float64\n",
      " 2   no_female_empl        759 non-null    float64\n",
      " 3   male_avg_hrly_rate    759 non-null    float64\n",
      " 4   no_male_empl          759 non-null    float64\n",
      " 5   total_avg_hrly_rate   759 non-null    float64\n",
      " 6   total_no_empl         759 non-null    float64\n",
      " 7   female_to_male_rate   759 non-null    float64\n",
      " 8   female_to_male_count  759 non-null    float64\n",
      " 9   notes                 759 non-null    object \n",
      "dtypes: float64(8), object(2)\n",
      "memory usage: 59.4+ KB\n"
     ]
    }
   ],
   "source": [
    "df.info()"
   ]
  },
  {
   "cell_type": "code",
   "execution_count": 7,
   "metadata": {},
   "outputs": [
    {
     "data": {
      "text/html": [
       "<div>\n",
       "<style scoped>\n",
       "    .dataframe tbody tr th:only-of-type {\n",
       "        vertical-align: middle;\n",
       "    }\n",
       "\n",
       "    .dataframe tbody tr th {\n",
       "        vertical-align: top;\n",
       "    }\n",
       "\n",
       "    .dataframe thead th {\n",
       "        text-align: right;\n",
       "    }\n",
       "</style>\n",
       "<table border=\"1\" class=\"dataframe\">\n",
       "  <thead>\n",
       "    <tr style=\"text-align: right;\">\n",
       "      <th></th>\n",
       "      <th>job_classification</th>\n",
       "      <th>female_avg_hrly_rate</th>\n",
       "      <th>no_female_empl</th>\n",
       "      <th>male_avg_hrly_rate</th>\n",
       "      <th>no_male_empl</th>\n",
       "      <th>total_avg_hrly_rate</th>\n",
       "      <th>total_no_empl</th>\n",
       "      <th>female_to_male_rate</th>\n",
       "      <th>female_to_male_count</th>\n",
       "      <th>notes</th>\n",
       "    </tr>\n",
       "  </thead>\n",
       "  <tbody>\n",
       "    <tr>\n",
       "      <th>0</th>\n",
       "      <td>Accountant</td>\n",
       "      <td>30.58</td>\n",
       "      <td>23.0</td>\n",
       "      <td>30.28</td>\n",
       "      <td>7.0</td>\n",
       "      <td>30.51</td>\n",
       "      <td>30.0</td>\n",
       "      <td>101.0</td>\n",
       "      <td>329.0</td>\n",
       "      <td>0</td>\n",
       "    </tr>\n",
       "    <tr>\n",
       "      <th>1</th>\n",
       "      <td>Accountant,Prin</td>\n",
       "      <td>38.75</td>\n",
       "      <td>23.0</td>\n",
       "      <td>37.64</td>\n",
       "      <td>7.0</td>\n",
       "      <td>38.49</td>\n",
       "      <td>30.0</td>\n",
       "      <td>103.0</td>\n",
       "      <td>329.0</td>\n",
       "      <td>0</td>\n",
       "    </tr>\n",
       "    <tr>\n",
       "      <th>2</th>\n",
       "      <td>Accountant,Sr</td>\n",
       "      <td>34.48</td>\n",
       "      <td>23.0</td>\n",
       "      <td>33.89</td>\n",
       "      <td>6.0</td>\n",
       "      <td>34.36</td>\n",
       "      <td>29.0</td>\n",
       "      <td>102.0</td>\n",
       "      <td>383.0</td>\n",
       "      <td>0</td>\n",
       "    </tr>\n",
       "    <tr>\n",
       "      <th>3</th>\n",
       "      <td>Act Exec</td>\n",
       "      <td>43.10</td>\n",
       "      <td>4.0</td>\n",
       "      <td>42.02</td>\n",
       "      <td>7.0</td>\n",
       "      <td>42.42</td>\n",
       "      <td>11.0</td>\n",
       "      <td>103.0</td>\n",
       "      <td>57.0</td>\n",
       "      <td>0</td>\n",
       "    </tr>\n",
       "    <tr>\n",
       "      <th>4</th>\n",
       "      <td>Actg Tech I</td>\n",
       "      <td>22.56</td>\n",
       "      <td>1.0</td>\n",
       "      <td>0.00</td>\n",
       "      <td>0.0</td>\n",
       "      <td>22.56</td>\n",
       "      <td>1.0</td>\n",
       "      <td>0.0</td>\n",
       "      <td>0.0</td>\n",
       "      <td>no men in title</td>\n",
       "    </tr>\n",
       "    <tr>\n",
       "      <th>...</th>\n",
       "      <td>...</td>\n",
       "      <td>...</td>\n",
       "      <td>...</td>\n",
       "      <td>...</td>\n",
       "      <td>...</td>\n",
       "      <td>...</td>\n",
       "      <td>...</td>\n",
       "      <td>...</td>\n",
       "      <td>...</td>\n",
       "      <td>...</td>\n",
       "    </tr>\n",
       "    <tr>\n",
       "      <th>95</th>\n",
       "      <td>Cashier,Sr</td>\n",
       "      <td>19.38</td>\n",
       "      <td>3.0</td>\n",
       "      <td>18.74</td>\n",
       "      <td>1.0</td>\n",
       "      <td>19.22</td>\n",
       "      <td>4.0</td>\n",
       "      <td>103.0</td>\n",
       "      <td>300.0</td>\n",
       "      <td>0</td>\n",
       "    </tr>\n",
       "    <tr>\n",
       "      <th>96</th>\n",
       "      <td>Cblspl Aprn</td>\n",
       "      <td>0.00</td>\n",
       "      <td>0.0</td>\n",
       "      <td>31.68</td>\n",
       "      <td>4.0</td>\n",
       "      <td>31.68</td>\n",
       "      <td>4.0</td>\n",
       "      <td>0.0</td>\n",
       "      <td>0.0</td>\n",
       "      <td>no women in title</td>\n",
       "    </tr>\n",
       "    <tr>\n",
       "      <th>97</th>\n",
       "      <td>Cblspl CC-Asg C Coord</td>\n",
       "      <td>0.00</td>\n",
       "      <td>0.0</td>\n",
       "      <td>46.28</td>\n",
       "      <td>2.0</td>\n",
       "      <td>46.28</td>\n",
       "      <td>2.0</td>\n",
       "      <td>0.0</td>\n",
       "      <td>0.0</td>\n",
       "      <td>no women in title</td>\n",
       "    </tr>\n",
       "    <tr>\n",
       "      <th>98</th>\n",
       "      <td>Cblspl CC-Asg Locator</td>\n",
       "      <td>46.28</td>\n",
       "      <td>1.0</td>\n",
       "      <td>0.00</td>\n",
       "      <td>0.0</td>\n",
       "      <td>46.28</td>\n",
       "      <td>1.0</td>\n",
       "      <td>0.0</td>\n",
       "      <td>0.0</td>\n",
       "      <td>no men in title</td>\n",
       "    </tr>\n",
       "    <tr>\n",
       "      <th>99</th>\n",
       "      <td>Cblspl CC-Net Area</td>\n",
       "      <td>46.28</td>\n",
       "      <td>3.0</td>\n",
       "      <td>46.28</td>\n",
       "      <td>16.0</td>\n",
       "      <td>46.28</td>\n",
       "      <td>19.0</td>\n",
       "      <td>100.0</td>\n",
       "      <td>19.0</td>\n",
       "      <td>0</td>\n",
       "    </tr>\n",
       "  </tbody>\n",
       "</table>\n",
       "<p>100 rows × 10 columns</p>\n",
       "</div>"
      ],
      "text/plain": [
       "       job_classification  female_avg_hrly_rate  no_female_empl  \\\n",
       "0              Accountant                 30.58            23.0   \n",
       "1         Accountant,Prin                 38.75            23.0   \n",
       "2           Accountant,Sr                 34.48            23.0   \n",
       "3                Act Exec                 43.10             4.0   \n",
       "4             Actg Tech I                 22.56             1.0   \n",
       "..                    ...                   ...             ...   \n",
       "95             Cashier,Sr                 19.38             3.0   \n",
       "96            Cblspl Aprn                  0.00             0.0   \n",
       "97  Cblspl CC-Asg C Coord                  0.00             0.0   \n",
       "98  Cblspl CC-Asg Locator                 46.28             1.0   \n",
       "99     Cblspl CC-Net Area                 46.28             3.0   \n",
       "\n",
       "    male_avg_hrly_rate  no_male_empl  total_avg_hrly_rate  total_no_empl  \\\n",
       "0                30.28           7.0                30.51           30.0   \n",
       "1                37.64           7.0                38.49           30.0   \n",
       "2                33.89           6.0                34.36           29.0   \n",
       "3                42.02           7.0                42.42           11.0   \n",
       "4                 0.00           0.0                22.56            1.0   \n",
       "..                 ...           ...                  ...            ...   \n",
       "95               18.74           1.0                19.22            4.0   \n",
       "96               31.68           4.0                31.68            4.0   \n",
       "97               46.28           2.0                46.28            2.0   \n",
       "98                0.00           0.0                46.28            1.0   \n",
       "99               46.28          16.0                46.28           19.0   \n",
       "\n",
       "    female_to_male_rate  female_to_male_count              notes  \n",
       "0                 101.0                 329.0                  0  \n",
       "1                 103.0                 329.0                  0  \n",
       "2                 102.0                 383.0                  0  \n",
       "3                 103.0                  57.0                  0  \n",
       "4                   0.0                   0.0    no men in title  \n",
       "..                  ...                   ...                ...  \n",
       "95                103.0                 300.0                  0  \n",
       "96                  0.0                   0.0  no women in title  \n",
       "97                  0.0                   0.0  no women in title  \n",
       "98                  0.0                   0.0    no men in title  \n",
       "99                100.0                  19.0                  0  \n",
       "\n",
       "[100 rows x 10 columns]"
      ]
     },
     "execution_count": 7,
     "metadata": {},
     "output_type": "execute_result"
    }
   ],
   "source": [
    "df.head(100)"
   ]
  },
  {
   "cell_type": "markdown",
   "metadata": {},
   "source": [
    "# Ungrouped Data"
   ]
  },
  {
   "cell_type": "code",
   "execution_count": 8,
   "metadata": {},
   "outputs": [
    {
     "data": {
      "text/plain": [
       "[<matplotlib.lines.Line2D at 0x25211b20748>]"
      ]
     },
     "execution_count": 8,
     "metadata": {},
     "output_type": "execute_result"
    },
    {
     "data": {
      "image/png": "[encoded data removed]",
      "text/plain": [
       "<Figure size 864x576 with 1 Axes>"
      ]
     },
     "metadata": {
      "needs_background": "light"
     },
     "output_type": "display_data"
    }
   ],
   "source": [
    "df['pct_female'] = df['no_female_empl'] / df['total_no_empl'] *100\n",
    "x = df['total_avg_hrly_rate']\n",
    "y = df['pct_female']\n",
    "fig, ax = plt.subplots(figsize=(12,8))\n",
    "plt.xlabel('Average Hourly Rate')\n",
    "plt.ylabel('Percent Female')\n",
    "plt.xlim(0, 100)\n",
    "plt.scatter(x, y, alpha=.5)\n",
    "plt.title('Seattle City Job Percent Female vs. Average Hourly Rate')\n",
    "plt.plot(np.unique(x), np.poly1d(np.polyfit(x, y, 1))(np.unique(x)), color='black')"
   ]
  },
  {
   "cell_type": "code",
   "execution_count": 9,
   "metadata": {},
   "outputs": [],
   "source": [
    "fig.tight_layout()\n",
    "fig.savefig('./images/ungrouped.png')"
   ]
  },
  {
   "cell_type": "code",
   "execution_count": 10,
   "metadata": {},
   "outputs": [],
   "source": [
    "slope, intercept, rvalue, pvalue, stderr = stats.linregress(x, y)"
   ]
  },
  {
   "cell_type": "code",
   "execution_count": 11,
   "metadata": {},
   "outputs": [
    {
     "data": {
      "text/plain": [
       "0.05626259742864942"
      ]
     },
     "execution_count": 11,
     "metadata": {},
     "output_type": "execute_result"
    }
   ],
   "source": [
    "rvalue*rvalue"
   ]
  },
  {
   "cell_type": "code",
   "execution_count": 12,
   "metadata": {},
   "outputs": [
    {
     "data": {
      "text/plain": [
       "LinregressResult(slope=-0.8990590942204966, intercept=69.9494449637719, rvalue=-0.23719738073732902, pvalue=3.6239874781586534e-11, stderr=0.13383077514829939)"
      ]
     },
     "execution_count": 12,
     "metadata": {},
     "output_type": "execute_result"
    }
   ],
   "source": [
    "stats.linregress(x, y)"
   ]
  },
  {
   "cell_type": "markdown",
   "metadata": {},
   "source": [
    "# Grouping job titles by total average hourly rate"
   ]
  },
  {
   "cell_type": "code",
   "execution_count": 13,
   "metadata": {},
   "outputs": [],
   "source": [
    "df['pay_grp_cut_n'] = pd.cut(df['total_avg_hrly_rate'], 5)"
   ]
  },
  {
   "cell_type": "code",
   "execution_count": 14,
   "metadata": {},
   "outputs": [
    {
     "data": {
      "text/html": [
       "<div>\n",
       "<style scoped>\n",
       "    .dataframe tbody tr th:only-of-type {\n",
       "        vertical-align: middle;\n",
       "    }\n",
       "\n",
       "    .dataframe tbody tr th {\n",
       "        vertical-align: top;\n",
       "    }\n",
       "\n",
       "    .dataframe thead th {\n",
       "        text-align: right;\n",
       "    }\n",
       "</style>\n",
       "<table border=\"1\" class=\"dataframe\">\n",
       "  <thead>\n",
       "    <tr style=\"text-align: right;\">\n",
       "      <th></th>\n",
       "      <th>0</th>\n",
       "      <th>1</th>\n",
       "      <th>2</th>\n",
       "      <th>3</th>\n",
       "      <th>4</th>\n",
       "    </tr>\n",
       "  </thead>\n",
       "  <tbody>\n",
       "    <tr>\n",
       "      <th>job_classification</th>\n",
       "      <td>Accountant</td>\n",
       "      <td>Accountant,Prin</td>\n",
       "      <td>Accountant,Sr</td>\n",
       "      <td>Act Exec</td>\n",
       "      <td>Actg Tech I</td>\n",
       "    </tr>\n",
       "    <tr>\n",
       "      <th>female_avg_hrly_rate</th>\n",
       "      <td>30.58</td>\n",
       "      <td>38.75</td>\n",
       "      <td>34.48</td>\n",
       "      <td>43.1</td>\n",
       "      <td>22.56</td>\n",
       "    </tr>\n",
       "    <tr>\n",
       "      <th>no_female_empl</th>\n",
       "      <td>23</td>\n",
       "      <td>23</td>\n",
       "      <td>23</td>\n",
       "      <td>4</td>\n",
       "      <td>1</td>\n",
       "    </tr>\n",
       "    <tr>\n",
       "      <th>male_avg_hrly_rate</th>\n",
       "      <td>30.28</td>\n",
       "      <td>37.64</td>\n",
       "      <td>33.89</td>\n",
       "      <td>42.02</td>\n",
       "      <td>0</td>\n",
       "    </tr>\n",
       "    <tr>\n",
       "      <th>no_male_empl</th>\n",
       "      <td>7</td>\n",
       "      <td>7</td>\n",
       "      <td>6</td>\n",
       "      <td>7</td>\n",
       "      <td>0</td>\n",
       "    </tr>\n",
       "    <tr>\n",
       "      <th>total_avg_hrly_rate</th>\n",
       "      <td>30.51</td>\n",
       "      <td>38.49</td>\n",
       "      <td>34.36</td>\n",
       "      <td>42.42</td>\n",
       "      <td>22.56</td>\n",
       "    </tr>\n",
       "    <tr>\n",
       "      <th>total_no_empl</th>\n",
       "      <td>30</td>\n",
       "      <td>30</td>\n",
       "      <td>29</td>\n",
       "      <td>11</td>\n",
       "      <td>1</td>\n",
       "    </tr>\n",
       "    <tr>\n",
       "      <th>female_to_male_rate</th>\n",
       "      <td>101</td>\n",
       "      <td>103</td>\n",
       "      <td>102</td>\n",
       "      <td>103</td>\n",
       "      <td>0</td>\n",
       "    </tr>\n",
       "    <tr>\n",
       "      <th>female_to_male_count</th>\n",
       "      <td>329</td>\n",
       "      <td>329</td>\n",
       "      <td>383</td>\n",
       "      <td>57</td>\n",
       "      <td>0</td>\n",
       "    </tr>\n",
       "    <tr>\n",
       "      <th>notes</th>\n",
       "      <td>0</td>\n",
       "      <td>0</td>\n",
       "      <td>0</td>\n",
       "      <td>0</td>\n",
       "      <td>no men in title</td>\n",
       "    </tr>\n",
       "    <tr>\n",
       "      <th>pct_female</th>\n",
       "      <td>76.6667</td>\n",
       "      <td>76.6667</td>\n",
       "      <td>79.3103</td>\n",
       "      <td>36.3636</td>\n",
       "      <td>100</td>\n",
       "    </tr>\n",
       "    <tr>\n",
       "      <th>pay_grp_cut_n</th>\n",
       "      <td>(21.31, 37.51]</td>\n",
       "      <td>(37.51, 53.71]</td>\n",
       "      <td>(21.31, 37.51]</td>\n",
       "      <td>(37.51, 53.71]</td>\n",
       "      <td>(21.31, 37.51]</td>\n",
       "    </tr>\n",
       "  </tbody>\n",
       "</table>\n",
       "</div>"
      ],
      "text/plain": [
       "                                   0                1               2  \\\n",
       "job_classification        Accountant  Accountant,Prin   Accountant,Sr   \n",
       "female_avg_hrly_rate           30.58            38.75           34.48   \n",
       "no_female_empl                    23               23              23   \n",
       "male_avg_hrly_rate             30.28            37.64           33.89   \n",
       "no_male_empl                       7                7               6   \n",
       "total_avg_hrly_rate            30.51            38.49           34.36   \n",
       "total_no_empl                     30               30              29   \n",
       "female_to_male_rate              101              103             102   \n",
       "female_to_male_count             329              329             383   \n",
       "notes                              0                0               0   \n",
       "pct_female                   76.6667          76.6667         79.3103   \n",
       "pay_grp_cut_n         (21.31, 37.51]   (37.51, 53.71]  (21.31, 37.51]   \n",
       "\n",
       "                                   3                4  \n",
       "job_classification          Act Exec      Actg Tech I  \n",
       "female_avg_hrly_rate            43.1            22.56  \n",
       "no_female_empl                     4                1  \n",
       "male_avg_hrly_rate             42.02                0  \n",
       "no_male_empl                       7                0  \n",
       "total_avg_hrly_rate            42.42            22.56  \n",
       "total_no_empl                     11                1  \n",
       "female_to_male_rate              103                0  \n",
       "female_to_male_count              57                0  \n",
       "notes                              0  no men in title  \n",
       "pct_female                   36.3636              100  \n",
       "pay_grp_cut_n         (37.51, 53.71]   (21.31, 37.51]  "
      ]
     },
     "execution_count": 14,
     "metadata": {},
     "output_type": "execute_result"
    }
   ],
   "source": [
    "df.head().T"
   ]
  },
  {
   "cell_type": "code",
   "execution_count": 16,
   "metadata": {},
   "outputs": [],
   "source": [
    "# get sums within group - esp for employee counts\n",
    "grouped = df.groupby(df['pay_grp_cut_n'], as_index=False).sum()"
   ]
  },
  {
   "cell_type": "code",
   "execution_count": 17,
   "metadata": {},
   "outputs": [
    {
     "data": {
      "text/html": [
       "<div>\n",
       "<style scoped>\n",
       "    .dataframe tbody tr th:only-of-type {\n",
       "        vertical-align: middle;\n",
       "    }\n",
       "\n",
       "    .dataframe tbody tr th {\n",
       "        vertical-align: top;\n",
       "    }\n",
       "\n",
       "    .dataframe thead th {\n",
       "        text-align: right;\n",
       "    }\n",
       "</style>\n",
       "<table border=\"1\" class=\"dataframe\">\n",
       "  <thead>\n",
       "    <tr style=\"text-align: right;\">\n",
       "      <th></th>\n",
       "      <th>pay_grp_cut_n</th>\n",
       "      <th>female_avg_hrly_rate</th>\n",
       "      <th>no_female_empl</th>\n",
       "      <th>male_avg_hrly_rate</th>\n",
       "      <th>no_male_empl</th>\n",
       "      <th>total_avg_hrly_rate</th>\n",
       "      <th>total_no_empl</th>\n",
       "      <th>female_to_male_rate</th>\n",
       "      <th>female_to_male_count</th>\n",
       "      <th>pct_female</th>\n",
       "    </tr>\n",
       "  </thead>\n",
       "  <tbody>\n",
       "    <tr>\n",
       "      <th>0</th>\n",
       "      <td>(5.029, 21.31]</td>\n",
       "      <td>466.47</td>\n",
       "      <td>144.0</td>\n",
       "      <td>432.81</td>\n",
       "      <td>214.0</td>\n",
       "      <td>573.30</td>\n",
       "      <td>358.0</td>\n",
       "      <td>1915.0</td>\n",
       "      <td>2474.0</td>\n",
       "      <td>1611.219837</td>\n",
       "    </tr>\n",
       "    <tr>\n",
       "      <th>1</th>\n",
       "      <td>(21.31, 37.51]</td>\n",
       "      <td>9031.65</td>\n",
       "      <td>4930.0</td>\n",
       "      <td>10731.53</td>\n",
       "      <td>7785.0</td>\n",
       "      <td>13264.33</td>\n",
       "      <td>12715.0</td>\n",
       "      <td>21507.0</td>\n",
       "      <td>46092.0</td>\n",
       "      <td>18829.913167</td>\n",
       "    </tr>\n",
       "    <tr>\n",
       "      <th>2</th>\n",
       "      <td>(37.51, 53.71]</td>\n",
       "      <td>6586.52</td>\n",
       "      <td>778.0</td>\n",
       "      <td>9657.71</td>\n",
       "      <td>2694.0</td>\n",
       "      <td>11212.65</td>\n",
       "      <td>3472.0</td>\n",
       "      <td>11493.0</td>\n",
       "      <td>9394.0</td>\n",
       "      <td>7736.969561</td>\n",
       "    </tr>\n",
       "    <tr>\n",
       "      <th>3</th>\n",
       "      <td>(53.71, 69.91]</td>\n",
       "      <td>640.08</td>\n",
       "      <td>35.0</td>\n",
       "      <td>1565.93</td>\n",
       "      <td>173.0</td>\n",
       "      <td>1625.78</td>\n",
       "      <td>208.0</td>\n",
       "      <td>1002.0</td>\n",
       "      <td>356.0</td>\n",
       "      <td>343.692668</td>\n",
       "    </tr>\n",
       "    <tr>\n",
       "      <th>4</th>\n",
       "      <td>(69.91, 86.11]</td>\n",
       "      <td>81.65</td>\n",
       "      <td>1.0</td>\n",
       "      <td>629.88</td>\n",
       "      <td>24.0</td>\n",
       "      <td>630.08</td>\n",
       "      <td>25.0</td>\n",
       "      <td>101.0</td>\n",
       "      <td>25.0</td>\n",
       "      <td>20.000000</td>\n",
       "    </tr>\n",
       "  </tbody>\n",
       "</table>\n",
       "</div>"
      ],
      "text/plain": [
       "    pay_grp_cut_n  female_avg_hrly_rate  no_female_empl  male_avg_hrly_rate  \\\n",
       "0  (5.029, 21.31]                466.47           144.0              432.81   \n",
       "1  (21.31, 37.51]               9031.65          4930.0            10731.53   \n",
       "2  (37.51, 53.71]               6586.52           778.0             9657.71   \n",
       "3  (53.71, 69.91]                640.08            35.0             1565.93   \n",
       "4  (69.91, 86.11]                 81.65             1.0              629.88   \n",
       "\n",
       "   no_male_empl  total_avg_hrly_rate  total_no_empl  female_to_male_rate  \\\n",
       "0         214.0               573.30          358.0               1915.0   \n",
       "1        7785.0             13264.33        12715.0              21507.0   \n",
       "2        2694.0             11212.65         3472.0              11493.0   \n",
       "3         173.0              1625.78          208.0               1002.0   \n",
       "4          24.0               630.08           25.0                101.0   \n",
       "\n",
       "   female_to_male_count    pct_female  \n",
       "0                2474.0   1611.219837  \n",
       "1               46092.0  18829.913167  \n",
       "2                9394.0   7736.969561  \n",
       "3                 356.0    343.692668  \n",
       "4                  25.0     20.000000  "
      ]
     },
     "execution_count": 17,
     "metadata": {},
     "output_type": "execute_result"
    }
   ],
   "source": [
    "grouped"
   ]
  },
  {
   "cell_type": "code",
   "execution_count": 18,
   "metadata": {},
   "outputs": [
    {
     "data": {
      "text/html": [
       "<div>\n",
       "<style scoped>\n",
       "    .dataframe tbody tr th:only-of-type {\n",
       "        vertical-align: middle;\n",
       "    }\n",
       "\n",
       "    .dataframe tbody tr th {\n",
       "        vertical-align: top;\n",
       "    }\n",
       "\n",
       "    .dataframe thead th {\n",
       "        text-align: right;\n",
       "    }\n",
       "</style>\n",
       "<table border=\"1\" class=\"dataframe\">\n",
       "  <thead>\n",
       "    <tr style=\"text-align: right;\">\n",
       "      <th></th>\n",
       "      <th>index</th>\n",
       "      <th>pay_grp_cut_n</th>\n",
       "    </tr>\n",
       "  </thead>\n",
       "  <tbody>\n",
       "    <tr>\n",
       "      <th>0</th>\n",
       "      <td>(5.029, 21.31]</td>\n",
       "      <td>32</td>\n",
       "    </tr>\n",
       "    <tr>\n",
       "      <th>1</th>\n",
       "      <td>(21.31, 37.51]</td>\n",
       "      <td>433</td>\n",
       "    </tr>\n",
       "    <tr>\n",
       "      <th>2</th>\n",
       "      <td>(37.51, 53.71]</td>\n",
       "      <td>258</td>\n",
       "    </tr>\n",
       "    <tr>\n",
       "      <th>3</th>\n",
       "      <td>(53.71, 69.91]</td>\n",
       "      <td>28</td>\n",
       "    </tr>\n",
       "    <tr>\n",
       "      <th>4</th>\n",
       "      <td>(69.91, 86.11]</td>\n",
       "      <td>8</td>\n",
       "    </tr>\n",
       "  </tbody>\n",
       "</table>\n",
       "</div>"
      ],
      "text/plain": [
       "            index  pay_grp_cut_n\n",
       "0  (5.029, 21.31]             32\n",
       "1  (21.31, 37.51]            433\n",
       "2  (37.51, 53.71]            258\n",
       "3  (53.71, 69.91]             28\n",
       "4  (69.91, 86.11]              8"
      ]
     },
     "execution_count": 18,
     "metadata": {},
     "output_type": "execute_result"
    }
   ],
   "source": [
    "df['pay_grp_cut_n'].value_counts().sort_index().reset_index()"
   ]
  },
  {
   "cell_type": "code",
   "execution_count": 19,
   "metadata": {},
   "outputs": [
    {
     "data": {
      "image/png": "[encoded data removed]",
      "text/plain": [
       "<Figure size 864x576 with 1 Axes>"
      ]
     },
     "metadata": {
      "needs_background": "light"
     },
     "output_type": "display_data"
    }
   ],
   "source": [
    "cut_counts = df['pay_grp_cut_n'].value_counts().sort_index().reset_index()\n",
    "\n",
    "x = cut_counts['index'].astype(str)\n",
    "y = cut_counts['pay_grp_cut_n']\n",
    "\n",
    "fig, ax = plt.subplots(figsize=(12,8))\n",
    "plt.xlabel('Hourly Pay Group')\n",
    "plt.ylabel('Job Title Count')\n",
    "plt.title('Job Title Count vs. Hourly Pay Group with pd.cut')\n",
    "plt.bar(x, y, alpha=.5)\n",
    "\n",
    "fig.tight_layout()\n",
    "fig.savefig('./images/cut5.png');"
   ]
  },
  {
   "cell_type": "code",
   "execution_count": 20,
   "metadata": {},
   "outputs": [
    {
     "data": {
      "image/png": "[encoded data removed]",
      "text/plain": [
       "<Figure size 864x576 with 1 Axes>"
      ]
     },
     "metadata": {
      "needs_background": "light"
     },
     "output_type": "display_data"
    }
   ],
   "source": [
    "x = grouped['pay_grp_cut_n'].astype(str)\n",
    "y = grouped['no_female_empl'] / grouped['total_no_empl'] *100\n",
    "fig, ax = plt.subplots(figsize=(12,8))\n",
    "plt.xlabel('Average Hourly Rate')\n",
    "plt.ylabel('Percent Female')\n",
    "plt.title('Percent Female vs. Average Hourly Rate for Seattle City Jobs')\n",
    "plt.ylim(0,100)\n",
    "plt.bar(x, y, alpha=.5)\n",
    "fig.tight_layout()\n",
    "fig.savefig('./images/cut5_pct_female');"
   ]
  },
  {
   "cell_type": "markdown",
   "metadata": {},
   "source": [
    "## labels"
   ]
  },
  {
   "cell_type": "code",
   "execution_count": 32,
   "metadata": {},
   "outputs": [
    {
     "data": {
      "image/png": "[encoded data removed]",
      "text/plain": [
       "<Figure size 864x576 with 1 Axes>"
      ]
     },
     "metadata": {
      "needs_background": "light"
     },
     "output_type": "display_data"
    }
   ],
   "source": [
    "df['pay_grp_cut_l'] = pd.cut(df['total_avg_hrly_rate'], 5, labels=['Very Low', 'Low', 'Medium', 'High', 'Very High'])\n",
    "grouped1 = df.groupby(df['pay_grp_cut_l'], as_index=False).sum()\n",
    "x1 = grouped1['pay_grp_cut_l']\n",
    "y1 = grouped1['no_female_empl'] / grouped1['total_no_empl'] *100\n",
    "fig, ax = plt.subplots(figsize=(12,8))\n",
    "plt.xlabel('Average Hourly Rate')\n",
    "plt.ylabel('Percent Female')\n",
    "plt.title('Percent Female vs. Average Hourly Rate for Seattle City Jobs')\n",
    "plt.ylim(0,100)\n",
    "plt.bar(x1, y1, alpha=.5);"
   ]
  },
  {
   "cell_type": "code",
   "execution_count": 22,
   "metadata": {},
   "outputs": [
    {
     "name": "stdout",
     "output_type": "stream",
     "text": [
      "Low \n",
      " Ttest_indResult(statistic=-4.51050133075541, pvalue=7.674220758165174e-06)\n",
      "Medium \n",
      " Ttest_indResult(statistic=-3.058629424558148, pvalue=0.0023394509803471124)\n",
      "Very Low \n",
      " Ttest_indResult(statistic=1.6010308463712921, pvalue=0.11445362155638761)\n",
      "Very High \n",
      " Ttest_indResult(statistic=-2.3719501183053397, pvalue=0.03257032845192342)\n",
      "High \n",
      " Ttest_indResult(statistic=-3.2374701494360276, pvalue=0.002063604729787673)\n"
     ]
    }
   ],
   "source": [
    "for grp in df['pay_grp_cut_l'].unique():\n",
    "    a = df.loc[df['pay_grp_cut_l'] == grp, 'pct_female']\n",
    "    b = df.loc[df['pay_grp_cut_l'] != grp, 'pct_female']\n",
    "    if len(a) < len(b):\n",
    "        print(grp, '\\n', stats.ttest_ind(a, random.sample(list(b), len(a))))\n",
    "    if len(b) < len(a):\n",
    "        print(grp, '\\n', stats.ttest_ind(b, random.sample(list(a), len(b))))"
   ]
  },
  {
   "cell_type": "markdown",
   "metadata": {},
   "source": [
    "## Choose Group Boundaries (x-axis)"
   ]
  },
  {
   "cell_type": "code",
   "execution_count": 30,
   "metadata": {},
   "outputs": [],
   "source": [
    "df['pay_grp_cut_set_boundaries'] = pd.cut(df['total_avg_hrly_rate'], [5,20,35,50,65,80])"
   ]
  },
  {
   "cell_type": "code",
   "execution_count": 33,
   "metadata": {},
   "outputs": [
    {
     "data": {
      "image/png": "[encoded data removed]",
      "text/plain": [
       "<Figure size 864x576 with 1 Axes>"
      ]
     },
     "metadata": {
      "needs_background": "light"
     },
     "output_type": "display_data"
    }
   ],
   "source": [
    "grouped2 = df.groupby(df['pay_grp_cut_set_boundaries'], as_index=False).sum()\n",
    "x2 = grouped2['pay_grp_cut_set_boundaries'].astype(str)\n",
    "y2 = grouped2['no_female_empl'] / grouped['total_no_empl'] *100\n",
    "fig, ax = plt.subplots(figsize=(12,8))\n",
    "plt.xlabel('Average Hourly Rate')\n",
    "plt.ylabel('Percent Female')\n",
    "plt.title('Percent Female vs. Average Hourly Rate for Seattle City Jobs')\n",
    "plt.ylim(0,100)\n",
    "plt.bar(x2, y2, alpha=.5);"
   ]
  },
  {
   "cell_type": "code",
   "execution_count": 48,
   "metadata": {},
   "outputs": [
    {
     "data": {
      "image/png": "[encoded data removed]",
      "text/plain": [
       "<Figure size 864x576 with 2 Axes>"
      ]
     },
     "metadata": {
      "needs_background": "light"
     },
     "output_type": "display_data"
    }
   ],
   "source": [
    "# graph for blog\n",
    "\n",
    "fig, axs = plt.subplots(nrows=1, ncols=2, figsize=(12,8))\n",
    "axs[0].set_xlabel('Average Hourly Rate')\n",
    "axs[1].set_xlabel('Average Hourly Rate')\n",
    "axs[0].set_ylabel('Percent Female')\n",
    "axs[1].set_ylabel('Percent Female')\n",
    "fig.suptitle('Percent Female vs. Average Hourly Rate for Seattle City Jobs')\n",
    "axs[0].set_ylim(0,50)\n",
    "axs[1].set_ylim(0,50)\n",
    "axs[0].set_title('Custom Labels')\n",
    "axs[1].set_title('Custom Bins')\n",
    "axs[0].bar(x1, y1, alpha=.5)\n",
    "axs[1].bar(x2, y2, alpha=.5)\n",
    "fig.savefig('./images/custom_bins.png');"
   ]
  },
  {
   "cell_type": "markdown",
   "metadata": {},
   "source": [
    "## Even Volume Groups"
   ]
  },
  {
   "cell_type": "code",
   "execution_count": 53,
   "metadata": {},
   "outputs": [
    {
     "data": {
      "image/png": "[encoded data removed]",
      "text/plain": [
       "<Figure size 864x576 with 1 Axes>"
      ]
     },
     "metadata": {
      "needs_background": "light"
     },
     "output_type": "display_data"
    }
   ],
   "source": [
    "df['pay_grp_qcut_n'] = pd.qcut(df['total_avg_hrly_rate'], 5)\n",
    "grouped = df.groupby(df['pay_grp_qcut_n'], as_index=False).sum()\n",
    "x = [str(x) for x in grouped['pay_grp_qcut_n']]\n",
    "y = grouped['no_female_empl'] / grouped['total_no_empl']\n",
    "fig, ax = plt.subplots(figsize=(12,8))\n",
    "plt.xlabel('Average Hourly Rate')\n",
    "plt.ylabel('Percent Female')\n",
    "plt.title('Percent Female vs. Average Hourly Rate for Seattle City Jobs')\n",
    "plt.ylim(0,1)\n",
    "plt.bar(x, y, alpha=.5, color='#1896ac')\n",
    "fig.savefig('./images/qcut_5_bins.png');"
   ]
  },
  {
   "cell_type": "code",
   "execution_count": 54,
   "metadata": {},
   "outputs": [
    {
     "data": {
      "image/png": "[encoded data removed]",
      "text/plain": [
       "<Figure size 864x576 with 1 Axes>"
      ]
     },
     "metadata": {
      "needs_background": "light"
     },
     "output_type": "display_data"
    }
   ],
   "source": [
    "df['pay_grp_qcut_l'] = pd.qcut(df['total_avg_hrly_rate'], 5, labels=['Very Low', 'Low', 'Medium', 'High', 'Very High'])\n",
    "grouped = df.groupby(df['pay_grp_qcut_l'], as_index=False).sum()\n",
    "x = grouped['pay_grp_qcut_l']\n",
    "y = grouped['no_female_empl'] / grouped['total_no_empl']\n",
    "fig, ax = plt.subplots(figsize=(12,8))\n",
    "plt.xlabel('Average Hourly Rate')\n",
    "plt.ylabel('Percent Female')\n",
    "plt.title('Percent Female vs. Average Hourly Rate for Seattle City Jobs')\n",
    "plt.ylim(0,1)\n",
    "plt.bar(x, y, alpha=.5, color='#1896ac');"
   ]
  },
  {
   "cell_type": "code",
   "execution_count": 59,
   "metadata": {},
   "outputs": [
    {
     "data": {
      "image/png": "[encoded data removed]",
      "text/plain": [
       "<Figure size 864x576 with 2 Axes>"
      ]
     },
     "metadata": {
      "needs_background": "light"
     },
     "output_type": "display_data"
    }
   ],
   "source": [
    "qcut_counts = df['pay_grp_qcut_l'].value_counts().sort_index().reset_index()\n",
    "cut_counts = df['pay_grp_cut_l'].value_counts().sort_index().reset_index()\n",
    "\n",
    "x1 = cut_counts['index'].astype(str)\n",
    "y1 = cut_counts['pay_grp_cut_l']\n",
    "\n",
    "x2 = qcut_counts['index'].astype(str)\n",
    "y2 = qcut_counts['pay_grp_qcut_l']\n",
    "\n",
    "fig, axs = plt.subplots(nrows=1, ncols=2, figsize=(12,8))\n",
    "axs[0].set_xlabel('Hourly Pay Group')\n",
    "axs[1].set_xlabel('Hourly Pay Group')\n",
    "axs[0].set_ylabel('Job Title Count')\n",
    "axs[1].set_ylabel('Job Title Count')\n",
    "fig.suptitle('Job Title Count vs. Hourly Pay Group with cut and qcut')\n",
    "axs[0].set_ylim(0, 500)\n",
    "axs[1].set_ylim(0, 500)\n",
    "axs[0].set_title('Cut')\n",
    "axs[1].set_title('QCut')\n",
    "axs[1].bar(x2, y2, alpha=.5, color='#1896ac')\n",
    "axs[0].bar(x1, y1, alpha=.5)\n",
    "fig.savefig('./images/cut_qcut_counts.png');"
   ]
  },
  {
   "cell_type": "code",
   "execution_count": null,
   "metadata": {},
   "outputs": [],
   "source": []
  }
 ],
 "metadata": {
  "kernelspec": {
   "display_name": "Python 3",
   "language": "python",
   "name": "python3"
  },
  "language_info": {
   "codemirror_mode": {
    "name": "ipython",
    "version": 3
   },
   "file_extension": ".py",
   "mimetype": "text/x-python",
   "name": "python",
   "nbconvert_exporter": "python",
   "pygments_lexer": "ipython3",
   "version": "3.7.6"
  }
 },
 "nbformat": 4,
 "nbformat_minor": 4
}
